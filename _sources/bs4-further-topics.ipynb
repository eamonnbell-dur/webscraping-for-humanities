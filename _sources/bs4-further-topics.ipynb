{
 "cells": [
  {
   "attachments": {},
   "cell_type": "markdown",
   "metadata": {},
   "source": [
    "# `bs4` Further Topics"
   ]
  },
  {
   "cell_type": "code",
   "execution_count": 1,
   "metadata": {},
   "outputs": [],
   "source": [
    "import requests\n",
    "import bs4"
   ]
  },
  {
   "attachments": {},
   "cell_type": "markdown",
   "metadata": {},
   "source": [
    "## Objective\n",
    "\n",
    "1. Visit the page at this URL in your browser - https://www.discogs.com/lists/277616\n",
    "2. Using Python, download the HTML document that corresponds to this page.\n",
    "3. Write some Python code using `bs4` to\n",
    "    - Return the titles of all the albums listed on this page\n",
    "    - Return a list of links to the album cover images for each of the albums listed on this page (To do this, you need to get the src= attribute of the relevant <img> elements)\n",
    "    - Return the link to the next page that contains the next 25 results\n",
    "4. Use Python to download the next page of the list, and repeat, building up a list of records (stored as `dicts`, if you like) for each album in the list\n"
   ]
  },
  {
   "attachments": {},
   "cell_type": "markdown",
   "metadata": {},
   "source": [
    "We now move to using Python to request remote resources (e.g. HTML documents hosted by Web servers) so that we can parse them using `bs4` for the purposes of Web scraping. To do this, we will use the third-party `requests` library, because it provides a relatively straightforward interface. We pass the URI of the remote resource as an argument to `requests.get` and it returns a HTTP response object."
   ]
  },
  {
   "cell_type": "code",
   "execution_count": 2,
   "metadata": {},
   "outputs": [],
   "source": [
    "resp = requests.get(\"https://www.discogs.com/lists/277616\")"
   ]
  },
  {
   "attachments": {},
   "cell_type": "markdown",
   "metadata": {},
   "source": [
    "When I run this code on my local machine, I recieve a HTTP response with status code 403. HTTP specifies a list of numeric status codes; you are probably familiar with the HTTP response code 404 - Not Found, a response code indicating that the request was not fulfilled (we know this is an error as it fits the format 4xx). 403 - Forbidden is a response indicating that the server is not willing to fulfill the request as it is has been made by the client.\n",
    "\n",
    "As HTTP is a plain-text protocol, we can inspect the exact request that was fired off when we used `requests.get`, which is stored in the `resp` variable:"
   ]
  },
  {
   "cell_type": "code",
   "execution_count": 3,
   "metadata": {},
   "outputs": [
    {
     "name": "stdout",
     "output_type": "stream",
     "text": [
      "GET https://www.discogs.com/lists/277616\n",
      "User-Agent: python-requests/2.28.1\n",
      "Accept-Encoding: gzip, deflate, br\n",
      "Accept: */*\n",
      "Connection: keep-alive\n",
      "\n",
      "None\n"
     ]
    }
   ],
   "source": [
    "def reveal_HTTP(request):\n",
    "    # https://stackoverflow.com/a/23816211\n",
    "    print('{}\\r\\n{}\\r\\n\\r\\n{}'.format(\n",
    "        request.method + ' ' + request.url,\n",
    "        '\\r\\n'.join('{}: {}'.format(k, v) for k, v in request.headers.items()),\n",
    "        request.body,\n",
    "    ))\n",
    "\n",
    "reveal_HTTP(resp.request)"
   ]
  },
  {
   "attachments": {},
   "cell_type": "markdown",
   "metadata": {},
   "source": [
    "When scraping in any context, it is important to ensure that you \"politely\" request resources from remote servers, meaning that you stick to a set of principles that makes it straightforward for you and the remote server administrator to identify unintended behavior on the part of your scraping code. The aspects of politness we will implement today include:\n",
    "\n",
    "1. Identify your scraper (and, optionally, yourself) in the User-Agent string, which is part of the \"header\" of the HTTP request\n",
    "2. Apply ratelimiting to limit the number (and/or speed) of HTTP requests you make of a remote server\n",
    "3. Respect the HTTP status code returned by the remote server, and adapt the behaviour of your code accordingly\n",
    "\n",
    "Looking at the User-Agent string provided with the request that failed, we might try to provide more detailed information about our activity and try again."
   ]
  },
  {
   "cell_type": "code",
   "execution_count": 4,
   "metadata": {},
   "outputs": [],
   "source": [
    "headers = {\n",
    "    'User-Agent': 'Research Scraper v0.1 - contact <youremail@example.com>',\n",
    "}\n",
    "\n",
    "resp = requests.get(\"https://www.discogs.com/lists/277616\", headers=headers)"
   ]
  },
  {
   "attachments": {},
   "cell_type": "markdown",
   "metadata": {},
   "source": [
    "Interestingly enough, providing this information caused the server to behave differently, since we now see:\n",
    "\n",
    "1. That the HTTP response code has changed from 403 to 200 (meaning a document has been succesfully retrieved from the remote server)\n",
    "2. That the response from the server contains HTML, which we are now ready to parse with the help of `bs4`. (We just look at the first 1000 characters)."
   ]
  },
  {
   "cell_type": "markdown",
   "metadata": {},
   "source": []
  },
  {
   "cell_type": "code",
   "execution_count": 5,
   "metadata": {},
   "outputs": [
    {
     "data": {
      "text/plain": [
       "<Response [200]>"
      ]
     },
     "execution_count": 5,
     "metadata": {},
     "output_type": "execute_result"
    }
   ],
   "source": [
    "resp"
   ]
  },
  {
   "cell_type": "code",
   "execution_count": 6,
   "metadata": {},
   "outputs": [
    {
     "data": {
      "text/plain": [
       "b'\\n\\n\\n<!DOCTYPE html>\\n<html\\n    class=\"is_not_mobile needs_reduced_ui \"\\n    lang=\"en\"\\n    xmlns:og=\"http://opengraphprotocol.org/schema/\"\\n    xmlns:fb=\"http://www.facebook.com/2008/fbml\"\\n>\\n    <head>\\n        <meta charset=\"utf-8\">\\n        <meta http-equiv=\"X-UA-Compatible\" content=\"IE=edge\">\\n        <meta http-equiv=\"content-language\" content=\"en\">\\n        <meta http-equiv=\"pragma\" content=\"no-cache\" />\\n        <meta http-equiv=\"expires\" content=\"-1\" />\\n\\n        <!-- OT will rewrite convert these to javascript and update our consent module accordingly -->\\n        <script type=\"text/plain\" class=\"optanon-category-C0002\">\\n            window.consent.resolveGroup(window.consent.PERFORMANCE_GROUP)\\n        </script>\\n        <script type=\"text/plain\" class=\"optanon-category-C0003\">\\n            window.consent.resolveGroup(window.consent.FUNCTIONALITY_GROUP)\\n        </script>\\n        <script type=\"text/plain\" class=\"optanon-category-C0004\">\\n            window.consent.resolveGroup(window.consent.TA'"
      ]
     },
     "execution_count": 6,
     "metadata": {},
     "output_type": "execute_result"
    }
   ],
   "source": [
    "resp.content[:1000]"
   ]
  },
  {
   "attachments": {},
   "cell_type": "markdown",
   "metadata": {},
   "source": [
    "So, we can assign this string to a useful name (`html_doc`) and start manipulating it with the help of `bs4`, as in the last set of examples."
   ]
  },
  {
   "cell_type": "code",
   "execution_count": 7,
   "metadata": {},
   "outputs": [],
   "source": [
    "html_doc = resp.content\n",
    "soup = bs4.BeautifulSoup(html_doc)"
   ]
  },
  {
   "attachments": {},
   "cell_type": "markdown",
   "metadata": {},
   "source": [
    "Let's break down the task into its constitutent parts. \n",
    "\n",
    "In order to complete this task, you are going to need to inspect or otherwise get acquainted with the structure of the web page that you are interested in retrieving information from. The solution will be hidden in the web presentation of the notebook materials; I reccomend that you attempt this task on your own before consulting the solutions. As I have said before, there are multiple ways of achieving the same result in `bs4`, so your solution need not be identical.\n",
    "\n",
    "### Return the titles of all the albums listed on this page\n",
    "\n",
    "**Hint**: Consult the documentation for the HTML element called `<ol>` (= **o**rdered **l**ist): https://developer.mozilla.org/en-US/docs/Web/HTML/Element/ol."
   ]
  },
  {
   "cell_type": "code",
   "execution_count": 8,
   "metadata": {
    "tags": [
     "hide-cell"
    ]
   },
   "outputs": [
    {
     "data": {
      "text/plain": [
       "['Maroon 5 - Songs About Jane',\n",
       " 'Hawkwind - Space Ritual',\n",
       " 'Cave Gaze Wagon - Wonderful Wagon World',\n",
       " 'The Pax Cecilia - Nouveau (A Theatre Of The Air)',\n",
       " 'Various - Mythical Tapes Vol. I',\n",
       " 'Yes - Yessongs',\n",
       " \"Marc Hamilton - Disque D'Or\",\n",
       " 'Marc Hamilton - Viens',\n",
       " 'Татьяна Гринденко*, Юрий Смирнов* - Ragtimes = Рэг-Таймы',\n",
       " 'バニラ・ファッジ* = The Vanilla Fudge* - キープ・ミー・ハンギング・オン = You Keep Me Hanging On',\n",
       " 'The Lovethugs - Playground Instructors',\n",
       " \"Various - Blanck Mass Presents The Strange Colour Of Your Body's Tears Re-Score\",\n",
       " 'Jing Chi, Vinnie Colaiuta, Robben Ford, Jimmy Haslip - Jing Chi',\n",
       " 'Rock Shop - Mr. Lee\\'s \"Swing\\'n Affair\" Presents',\n",
       " 'Blue Mink - Melting Pot',\n",
       " 'Ars Nova (3) - Pavan For My Lady',\n",
       " 'Blues Pills - Blues Pills',\n",
       " 'The Beatles - Lady Madonna',\n",
       " \"Sleep - Reunion At All Tomorrow's Parties\",\n",
       " 'Reel People Feat. Darien - Sure',\n",
       " 'Grim Fandango - In The Rough',\n",
       " 'Paul Mauriat And His Orchestra - Let The Sunshine In / Midnight Cowboy / And Other Goodies',\n",
       " 'The Sea Urchins - A Morning Odyssey',\n",
       " 'Various - Re-Evolution: FDM Sings The Hollies',\n",
       " 'Josephine Foster - Hazel Eyes, I Will Lead You']"
      ]
     },
     "execution_count": 8,
     "metadata": {},
     "output_type": "execute_result"
    }
   ],
   "source": [
    "ol_albums = soup.find('ol', id='listitems')\n",
    "li_albums = ol_albums.find_all('li')\n",
    "album_titles = [li.find('a').get_text() for li in li_albums]\n",
    "album_titles"
   ]
  },
  {
   "attachments": {},
   "cell_type": "markdown",
   "metadata": {},
   "source": [
    "\n",
    "### Return a list of links to the album cover images for each of the albums listed on this page \n",
    "\n",
    "NB: To do this, you need to get the `src` attribute of the relevant `<img>` elements.\n"
   ]
  },
  {
   "cell_type": "code",
   "execution_count": 9,
   "metadata": {
    "tags": [
     "hide-cell"
    ]
   },
   "outputs": [
    {
     "data": {
      "text/plain": [
       "['https://i.discogs.com/9S5gwiP7Jr5Emfdrl8ERBHxUAc4p-mPHU8GMbGbGees/rs:fill/g:sm/q:40/h:300/w:300/czM6Ly9kaXNjb2dz/LWRhdGFiYXNlLWlt/YWdlcy9SLTQzNTEz/OC0xMTEzMDM2MzE1/LmpwZw.jpeg',\n",
       " 'https://i.discogs.com/wMzYu3lEPnNPB8Ord6SyhoA6eZSvgu8ZQMSxRxO34Dw/rs:fill/g:sm/q:40/h:300/w:300/czM6Ly9kaXNjb2dz/LWRhdGFiYXNlLWlt/YWdlcy9SLTY0MDQw/Ni0xNjA4MTM0NTcx/LTE0NzkuanBlZw.jpeg',\n",
       " 'https://i.discogs.com/wyMbzqKbQSMjcdkWowSrSRX7Pj_m5phhSxw5ZFe3oE4/rs:fill/g:sm/q:40/h:300/w:300/czM6Ly9kaXNjb2dz/LWRhdGFiYXNlLWlt/YWdlcy9SLTgxNTk3/OTctMTQ1NjI1MjI2/Ni00MDg1LmpwZWc.jpeg',\n",
       " 'https://i.discogs.com/tfzq-AQIFomVcMDxegx4a8pVCgjn9_2CdDROpDALo-M/rs:fill/g:sm/q:40/h:300/w:300/czM6Ly9kaXNjb2dz/LWRhdGFiYXNlLWlt/YWdlcy9SLTIxMzIy/OTctMTM5MTI5ODMw/Ni03ODg4LmpwZWc.jpeg',\n",
       " 'https://i.discogs.com/WU-cIgUI_-3-1vFxM06SgUO4oykhn_i8XgV39Ss0A8Y/rs:fill/g:sm/q:40/h:300/w:300/czM6Ly9kaXNjb2dz/LWRhdGFiYXNlLWlt/YWdlcy9SLTQ4ODA1/MTUtMTM3ODc0NDI0/Mi0zNzg1LmpwZWc.jpeg',\n",
       " 'https://i.discogs.com/Ifdi30FMqrHGtfnE2CkzYqONmmN0YdRPgcNND2KP6Wg/rs:fill/g:sm/q:40/h:300/w:300/czM6Ly9kaXNjb2dz/LWRhdGFiYXNlLWlt/YWdlcy9SLTc0MzYx/My0xNDQ4MjA2NTU3/LTQ4NjUuanBlZw.jpeg',\n",
       " 'https://i.discogs.com/GIqSPWHd803G_Q6maD6Yvtd0Imgoem5ylfWhZNnK6TY/rs:fill/g:sm/q:40/h:300/w:300/czM6Ly9kaXNjb2dz/LWRhdGFiYXNlLWlt/YWdlcy9SLTgxODM1/NDUtMTQ4MTExNzE0/NS00MjUwLmpwZWc.jpeg',\n",
       " 'https://i.discogs.com/fu6BkMm-PdvYUIu4tlcWN97eBaO0gTTTPzhyf3AgIJc/rs:fill/g:sm/q:40/h:300/w:300/czM6Ly9kaXNjb2dz/LWRhdGFiYXNlLWlt/YWdlcy9SLTY4NTEz/NjAtMTQyNzk4MzMy/OC00MTg3LmpwZWc.jpeg',\n",
       " 'https://i.discogs.com/jW-sU9hijnGoRzsWUTTfsVPXcIo_3UzL8bjsHNYGzVs/rs:fill/g:sm/q:40/h:300/w:300/czM6Ly9kaXNjb2dz/LWRhdGFiYXNlLWlt/YWdlcy9SLTIzNDY1/OTk5LTE2NTQzNjU2/NjItOTQyNC5qcGVn.jpeg',\n",
       " 'https://i.discogs.com/Yix2DeX7xATDHLgyIDX0kfTvbyix22IZ1mJldz5fhO4/rs:fill/g:sm/q:40/h:300/w:300/czM6Ly9kaXNjb2dz/LWRhdGFiYXNlLWlt/YWdlcy9SLTc3MTk2/ODItMTQ3MzE0Nzgw/OS04NTQzLnBuZw.jpeg',\n",
       " 'https://i.discogs.com/P5pXiTahIieygcpD_H-vBzo2ft5b15MY-zlwezOxYt0/rs:fill/g:sm/q:40/h:300/w:300/czM6Ly9kaXNjb2dz/LWRhdGFiYXNlLWlt/YWdlcy9SLTgyMDI3/MzctMTQ1NzA1ODk1/Ni0zOTMzLmpwZWc.jpeg',\n",
       " 'https://i.discogs.com/PrlqzNQYvr3xbri7MH_pROstAHyp2vg6LSQsZRo4xAU/rs:fill/g:sm/q:40/h:300/w:300/czM6Ly9kaXNjb2dz/LWRhdGFiYXNlLWlt/YWdlcy9SLTcyNTE1/OTctMTQzNzIwMDQy/NC0yMjE3LmpwZWc.jpeg',\n",
       " 'https://i.discogs.com/xyYBiZR__1HkJURkzLL70fnMe1xYVvElqDSDvarIsm8/rs:fill/g:sm/q:40/h:300/w:300/czM6Ly9kaXNjb2dz/LWRhdGFiYXNlLWlt/YWdlcy9SLTY2Njc2/ODItMTQyNDIxNTQ5/OS05Nzk0LmpwZWc.jpeg',\n",
       " 'https://i.discogs.com/4XVsifu2kpFu_nRCCrfsh9XtWPmtelABo2-5lBtlkrE/rs:fill/g:sm/q:40/h:300/w:300/czM6Ly9kaXNjb2dz/LWRhdGFiYXNlLWlt/YWdlcy9SLTgyMTQz/MDMtMTQ1NzI3OTEz/Ni0xMzQ0LmpwZWc.jpeg',\n",
       " 'https://i.discogs.com/VBSWqKSL0T6Bre2rMjQaovN_uEMjii0AoLJ_WYO5ejQ/rs:fill/g:sm/q:40/h:300/w:300/czM6Ly9kaXNjb2dz/LWRhdGFiYXNlLWlt/YWdlcy9SLTQ3MTI2/NDUtMTU4NjIyMDEz/NC03NzMzLmpwZWc.jpeg',\n",
       " 'https://i.discogs.com/lgp0AuyykuN1KzQ4xgLHsR8J14xlJ4WFF7xhipEmD70/rs:fill/g:sm/q:40/h:300/w:300/czM6Ly9kaXNjb2dz/LWRhdGFiYXNlLWlt/YWdlcy9SLTgyNDQy/NDEtMTQ1Nzg0Nzgy/MC00ODY1LmpwZWc.jpeg',\n",
       " 'https://i.discogs.com/-aqQ84mnWf9yyEkvLIDK-TBnAmF2o0wMvX9x1RiJqUE/rs:fill/g:sm/q:40/h:300/w:300/czM6Ly9kaXNjb2dz/LWRhdGFiYXNlLWlt/YWdlcy9SLTU5MTE4/MTItMTQxMDUwOTM5/My0xNjk2LmpwZWc.jpeg',\n",
       " 'https://i.discogs.com/XFYQKYDBy0iocQokZuF7IM30msiuc1TZ0jUkTnimHnI/rs:fill/g:sm/q:40/h:300/w:300/czM6Ly9kaXNjb2dz/LWRhdGFiYXNlLWlt/YWdlcy9SLTgyNTA1/NzktMTQ1Nzk2NjM2/Ny03MDcyLmpwZWc.jpeg',\n",
       " 'https://i.discogs.com/z4eJHngDwGIPyW0vkhvorI23aHz15_PsDQgbj6MQQmQ/rs:fill/g:sm/q:40/h:300/w:300/czM6Ly9kaXNjb2dz/LWRhdGFiYXNlLWlt/YWdlcy9SLTUwMTc1/OTQtMTM4MjI1NjI3/My01NzAzLmpwZWc.jpeg',\n",
       " 'https://i.discogs.com/7OuCn186O3qqmCDHAe69E-ZgOUVQuHph6K4Fu-E8aaA/rs:fill/g:sm/q:40/h:300/w:300/czM6Ly9kaXNjb2dz/LWRhdGFiYXNlLWlt/YWdlcy9SLTczODA0/NjEtMTQ0MDI1MTcz/Ni04MTA3LmpwZWc.jpeg',\n",
       " 'https://i.discogs.com/Ra1prFJ89i-XB1C50kMDTsMoOhPnGr52K2WsR9HFPmU/rs:fill/g:sm/q:40/h:300/w:300/czM6Ly9kaXNjb2dz/LWRhdGFiYXNlLWlt/YWdlcy9SLTU3NzE5/MzgtMTQwMjIzMDM3/Ny0yNjcyLmpwZWc.jpeg',\n",
       " 'https://i.discogs.com/N_eBaAMU8W-WeaKeiku1Kayn6du0VMtnHVjWMe_1Xak/rs:fill/g:sm/q:40/h:300/w:300/czM6Ly9kaXNjb2dz/LWRhdGFiYXNlLWlt/YWdlcy9SLTE2MjUw/NjgtMTM1Nzk1MTA0/OC0yNjUzLmpwZWc.jpeg',\n",
       " 'https://i.discogs.com/mGrVS9S4ckiztRGAagYRXN6ZePsU1o4WZ7mkvFDI0vY/rs:fill/g:sm/q:40/h:300/w:300/czM6Ly9kaXNjb2dz/LWRhdGFiYXNlLWlt/YWdlcy9SLTk5NDA5/Ny0xMTg2MjE1NjM1/LmpwZWc.jpeg',\n",
       " 'https://i.discogs.com/S_iTIJYinLqXOz8BFx5CSGV9P1FcxvZhz2HWascMMNw/rs:fill/g:sm/q:40/h:300/w:300/czM6Ly9kaXNjb2dz/LWRhdGFiYXNlLWlt/YWdlcy9SLTQzNjIw/NjctMTM2NDc0MTM2/OC04MTM4LmpwZWc.jpeg',\n",
       " 'https://i.discogs.com/2cQNQSUfjJyD_d78We5T3XHbl_GzvuHxwhfmegDK3YM/rs:fill/g:sm/q:40/h:300/w:300/czM6Ly9kaXNjb2dz/LWRhdGFiYXNlLWlt/YWdlcy9SLTEwNDg4/OTktMTI5MjMyMDUx/Ny5qcGVn.jpeg']"
      ]
     },
     "execution_count": 9,
     "metadata": {},
     "output_type": "execute_result"
    }
   ],
   "source": [
    "ol_albums = soup.find('ol', id='listitems')\n",
    "li_albums = ol_albums.find_all('li')\n",
    "cover_image_links = [li.find('img')['src'] for li in li_albums]\n",
    "cover_image_links"
   ]
  },
  {
   "attachments": {},
   "cell_type": "markdown",
   "metadata": {},
   "source": [
    "### Return the link to the next page that contains the next 20 results"
   ]
  },
  {
   "cell_type": "code",
   "execution_count": 10,
   "metadata": {
    "tags": [
     "hide-cell"
    ]
   },
   "outputs": [],
   "source": [
    "nav = soup.find('nav', attrs={'aria-label':'Pagination'})\n",
    "link = nav.find('a', class_='pagination_next')\n",
    "link_destination = link.attrs['href']\n",
    "\n",
    "# The link returned was a relative link, so to make it usable, we need to \n",
    "# construct an absolute link using our knowledge of the page that we are currently on\n",
    "absolute_link = 'https://www.discogs.com' + link_destination"
   ]
  },
  {
   "cell_type": "markdown",
   "metadata": {},
   "source": [
    "## Expanding the scope of the scraping activity"
   ]
  },
  {
   "attachments": {},
   "cell_type": "markdown",
   "metadata": {},
   "source": [
    "First, let's combine everything we've got so far in to a helpful function:"
   ]
  },
  {
   "cell_type": "code",
   "execution_count": 11,
   "metadata": {},
   "outputs": [],
   "source": [
    "def scrape_album_info(html_doc):\n",
    "    soup = bs4.BeautifulSoup(html_doc)\n",
    "\n",
    "    ol_albums = soup.find('ol', id='listitems')\n",
    "    li_albums = ol_albums.find_all('li')\n",
    "\n",
    "    album_titles = [li.find('a').get_text() for li in li_albums]\n",
    "    cover_image_links = [li.find('img')['src'] for li in li_albums]\n",
    "\n",
    "    nav = soup.find('nav', attrs={'aria-label':'Pagination'})\n",
    "    link = nav.find('a', class_='pagination_next')\n",
    "    link_destination = link.attrs['href']\n",
    "    absolute_next_link = 'https://www.discogs.com' + link_destination\n",
    "\n",
    "    return {\n",
    "        'album_titles' : album_titles,\n",
    "        'cover_image_links' : cover_image_links,\n",
    "        'absolute_next_link' : absolute_next_link\n",
    "    }"
   ]
  },
  {
   "attachments": {},
   "cell_type": "markdown",
   "metadata": {},
   "source": [
    "Double-check it works as expected:"
   ]
  },
  {
   "cell_type": "code",
   "execution_count": 12,
   "metadata": {},
   "outputs": [
    {
     "data": {
      "text/plain": [
       "{'album_titles': ['Maroon 5 - Songs About Jane',\n",
       "  'Hawkwind - Space Ritual',\n",
       "  'Cave Gaze Wagon - Wonderful Wagon World',\n",
       "  'The Pax Cecilia - Nouveau (A Theatre Of The Air)',\n",
       "  'Various - Mythical Tapes Vol. I',\n",
       "  'Yes - Yessongs',\n",
       "  \"Marc Hamilton - Disque D'Or\",\n",
       "  'Marc Hamilton - Viens',\n",
       "  'Татьяна Гринденко*, Юрий Смирнов* - Ragtimes = Рэг-Таймы',\n",
       "  'バニラ・ファッジ* = The Vanilla Fudge* - キープ・ミー・ハンギング・オン = You Keep Me Hanging On',\n",
       "  'The Lovethugs - Playground Instructors',\n",
       "  \"Various - Blanck Mass Presents The Strange Colour Of Your Body's Tears Re-Score\",\n",
       "  'Jing Chi, Vinnie Colaiuta, Robben Ford, Jimmy Haslip - Jing Chi',\n",
       "  'Rock Shop - Mr. Lee\\'s \"Swing\\'n Affair\" Presents',\n",
       "  'Blue Mink - Melting Pot',\n",
       "  'Ars Nova (3) - Pavan For My Lady',\n",
       "  'Blues Pills - Blues Pills',\n",
       "  'The Beatles - Lady Madonna',\n",
       "  \"Sleep - Reunion At All Tomorrow's Parties\",\n",
       "  'Reel People Feat. Darien - Sure',\n",
       "  'Grim Fandango - In The Rough',\n",
       "  'Paul Mauriat And His Orchestra - Let The Sunshine In / Midnight Cowboy / And Other Goodies',\n",
       "  'The Sea Urchins - A Morning Odyssey',\n",
       "  'Various - Re-Evolution: FDM Sings The Hollies',\n",
       "  'Josephine Foster - Hazel Eyes, I Will Lead You'],\n",
       " 'cover_image_links': ['https://i.discogs.com/9S5gwiP7Jr5Emfdrl8ERBHxUAc4p-mPHU8GMbGbGees/rs:fill/g:sm/q:40/h:300/w:300/czM6Ly9kaXNjb2dz/LWRhdGFiYXNlLWlt/YWdlcy9SLTQzNTEz/OC0xMTEzMDM2MzE1/LmpwZw.jpeg',\n",
       "  'https://i.discogs.com/wMzYu3lEPnNPB8Ord6SyhoA6eZSvgu8ZQMSxRxO34Dw/rs:fill/g:sm/q:40/h:300/w:300/czM6Ly9kaXNjb2dz/LWRhdGFiYXNlLWlt/YWdlcy9SLTY0MDQw/Ni0xNjA4MTM0NTcx/LTE0NzkuanBlZw.jpeg',\n",
       "  'https://i.discogs.com/wyMbzqKbQSMjcdkWowSrSRX7Pj_m5phhSxw5ZFe3oE4/rs:fill/g:sm/q:40/h:300/w:300/czM6Ly9kaXNjb2dz/LWRhdGFiYXNlLWlt/YWdlcy9SLTgxNTk3/OTctMTQ1NjI1MjI2/Ni00MDg1LmpwZWc.jpeg',\n",
       "  'https://i.discogs.com/tfzq-AQIFomVcMDxegx4a8pVCgjn9_2CdDROpDALo-M/rs:fill/g:sm/q:40/h:300/w:300/czM6Ly9kaXNjb2dz/LWRhdGFiYXNlLWlt/YWdlcy9SLTIxMzIy/OTctMTM5MTI5ODMw/Ni03ODg4LmpwZWc.jpeg',\n",
       "  'https://i.discogs.com/WU-cIgUI_-3-1vFxM06SgUO4oykhn_i8XgV39Ss0A8Y/rs:fill/g:sm/q:40/h:300/w:300/czM6Ly9kaXNjb2dz/LWRhdGFiYXNlLWlt/YWdlcy9SLTQ4ODA1/MTUtMTM3ODc0NDI0/Mi0zNzg1LmpwZWc.jpeg',\n",
       "  'https://i.discogs.com/Ifdi30FMqrHGtfnE2CkzYqONmmN0YdRPgcNND2KP6Wg/rs:fill/g:sm/q:40/h:300/w:300/czM6Ly9kaXNjb2dz/LWRhdGFiYXNlLWlt/YWdlcy9SLTc0MzYx/My0xNDQ4MjA2NTU3/LTQ4NjUuanBlZw.jpeg',\n",
       "  'https://i.discogs.com/GIqSPWHd803G_Q6maD6Yvtd0Imgoem5ylfWhZNnK6TY/rs:fill/g:sm/q:40/h:300/w:300/czM6Ly9kaXNjb2dz/LWRhdGFiYXNlLWlt/YWdlcy9SLTgxODM1/NDUtMTQ4MTExNzE0/NS00MjUwLmpwZWc.jpeg',\n",
       "  'https://i.discogs.com/fu6BkMm-PdvYUIu4tlcWN97eBaO0gTTTPzhyf3AgIJc/rs:fill/g:sm/q:40/h:300/w:300/czM6Ly9kaXNjb2dz/LWRhdGFiYXNlLWlt/YWdlcy9SLTY4NTEz/NjAtMTQyNzk4MzMy/OC00MTg3LmpwZWc.jpeg',\n",
       "  'https://i.discogs.com/jW-sU9hijnGoRzsWUTTfsVPXcIo_3UzL8bjsHNYGzVs/rs:fill/g:sm/q:40/h:300/w:300/czM6Ly9kaXNjb2dz/LWRhdGFiYXNlLWlt/YWdlcy9SLTIzNDY1/OTk5LTE2NTQzNjU2/NjItOTQyNC5qcGVn.jpeg',\n",
       "  'https://i.discogs.com/Yix2DeX7xATDHLgyIDX0kfTvbyix22IZ1mJldz5fhO4/rs:fill/g:sm/q:40/h:300/w:300/czM6Ly9kaXNjb2dz/LWRhdGFiYXNlLWlt/YWdlcy9SLTc3MTk2/ODItMTQ3MzE0Nzgw/OS04NTQzLnBuZw.jpeg',\n",
       "  'https://i.discogs.com/P5pXiTahIieygcpD_H-vBzo2ft5b15MY-zlwezOxYt0/rs:fill/g:sm/q:40/h:300/w:300/czM6Ly9kaXNjb2dz/LWRhdGFiYXNlLWlt/YWdlcy9SLTgyMDI3/MzctMTQ1NzA1ODk1/Ni0zOTMzLmpwZWc.jpeg',\n",
       "  'https://i.discogs.com/PrlqzNQYvr3xbri7MH_pROstAHyp2vg6LSQsZRo4xAU/rs:fill/g:sm/q:40/h:300/w:300/czM6Ly9kaXNjb2dz/LWRhdGFiYXNlLWlt/YWdlcy9SLTcyNTE1/OTctMTQzNzIwMDQy/NC0yMjE3LmpwZWc.jpeg',\n",
       "  'https://i.discogs.com/xyYBiZR__1HkJURkzLL70fnMe1xYVvElqDSDvarIsm8/rs:fill/g:sm/q:40/h:300/w:300/czM6Ly9kaXNjb2dz/LWRhdGFiYXNlLWlt/YWdlcy9SLTY2Njc2/ODItMTQyNDIxNTQ5/OS05Nzk0LmpwZWc.jpeg',\n",
       "  'https://i.discogs.com/4XVsifu2kpFu_nRCCrfsh9XtWPmtelABo2-5lBtlkrE/rs:fill/g:sm/q:40/h:300/w:300/czM6Ly9kaXNjb2dz/LWRhdGFiYXNlLWlt/YWdlcy9SLTgyMTQz/MDMtMTQ1NzI3OTEz/Ni0xMzQ0LmpwZWc.jpeg',\n",
       "  'https://i.discogs.com/VBSWqKSL0T6Bre2rMjQaovN_uEMjii0AoLJ_WYO5ejQ/rs:fill/g:sm/q:40/h:300/w:300/czM6Ly9kaXNjb2dz/LWRhdGFiYXNlLWlt/YWdlcy9SLTQ3MTI2/NDUtMTU4NjIyMDEz/NC03NzMzLmpwZWc.jpeg',\n",
       "  'https://i.discogs.com/lgp0AuyykuN1KzQ4xgLHsR8J14xlJ4WFF7xhipEmD70/rs:fill/g:sm/q:40/h:300/w:300/czM6Ly9kaXNjb2dz/LWRhdGFiYXNlLWlt/YWdlcy9SLTgyNDQy/NDEtMTQ1Nzg0Nzgy/MC00ODY1LmpwZWc.jpeg',\n",
       "  'https://i.discogs.com/-aqQ84mnWf9yyEkvLIDK-TBnAmF2o0wMvX9x1RiJqUE/rs:fill/g:sm/q:40/h:300/w:300/czM6Ly9kaXNjb2dz/LWRhdGFiYXNlLWlt/YWdlcy9SLTU5MTE4/MTItMTQxMDUwOTM5/My0xNjk2LmpwZWc.jpeg',\n",
       "  'https://i.discogs.com/XFYQKYDBy0iocQokZuF7IM30msiuc1TZ0jUkTnimHnI/rs:fill/g:sm/q:40/h:300/w:300/czM6Ly9kaXNjb2dz/LWRhdGFiYXNlLWlt/YWdlcy9SLTgyNTA1/NzktMTQ1Nzk2NjM2/Ny03MDcyLmpwZWc.jpeg',\n",
       "  'https://i.discogs.com/z4eJHngDwGIPyW0vkhvorI23aHz15_PsDQgbj6MQQmQ/rs:fill/g:sm/q:40/h:300/w:300/czM6Ly9kaXNjb2dz/LWRhdGFiYXNlLWlt/YWdlcy9SLTUwMTc1/OTQtMTM4MjI1NjI3/My01NzAzLmpwZWc.jpeg',\n",
       "  'https://i.discogs.com/7OuCn186O3qqmCDHAe69E-ZgOUVQuHph6K4Fu-E8aaA/rs:fill/g:sm/q:40/h:300/w:300/czM6Ly9kaXNjb2dz/LWRhdGFiYXNlLWlt/YWdlcy9SLTczODA0/NjEtMTQ0MDI1MTcz/Ni04MTA3LmpwZWc.jpeg',\n",
       "  'https://i.discogs.com/Ra1prFJ89i-XB1C50kMDTsMoOhPnGr52K2WsR9HFPmU/rs:fill/g:sm/q:40/h:300/w:300/czM6Ly9kaXNjb2dz/LWRhdGFiYXNlLWlt/YWdlcy9SLTU3NzE5/MzgtMTQwMjIzMDM3/Ny0yNjcyLmpwZWc.jpeg',\n",
       "  'https://i.discogs.com/N_eBaAMU8W-WeaKeiku1Kayn6du0VMtnHVjWMe_1Xak/rs:fill/g:sm/q:40/h:300/w:300/czM6Ly9kaXNjb2dz/LWRhdGFiYXNlLWlt/YWdlcy9SLTE2MjUw/NjgtMTM1Nzk1MTA0/OC0yNjUzLmpwZWc.jpeg',\n",
       "  'https://i.discogs.com/mGrVS9S4ckiztRGAagYRXN6ZePsU1o4WZ7mkvFDI0vY/rs:fill/g:sm/q:40/h:300/w:300/czM6Ly9kaXNjb2dz/LWRhdGFiYXNlLWlt/YWdlcy9SLTk5NDA5/Ny0xMTg2MjE1NjM1/LmpwZWc.jpeg',\n",
       "  'https://i.discogs.com/S_iTIJYinLqXOz8BFx5CSGV9P1FcxvZhz2HWascMMNw/rs:fill/g:sm/q:40/h:300/w:300/czM6Ly9kaXNjb2dz/LWRhdGFiYXNlLWlt/YWdlcy9SLTQzNjIw/NjctMTM2NDc0MTM2/OC04MTM4LmpwZWc.jpeg',\n",
       "  'https://i.discogs.com/2cQNQSUfjJyD_d78We5T3XHbl_GzvuHxwhfmegDK3YM/rs:fill/g:sm/q:40/h:300/w:300/czM6Ly9kaXNjb2dz/LWRhdGFiYXNlLWlt/YWdlcy9SLTEwNDg4/OTktMTI5MjMyMDUx/Ny5qcGVn.jpeg'],\n",
       " 'absolute_next_link': 'https://www.discogs.com/lists/277616?page=2'}"
      ]
     },
     "execution_count": 12,
     "metadata": {},
     "output_type": "execute_result"
    }
   ],
   "source": [
    "album_info = scrape_album_info(html_doc)\n",
    "album_info"
   ]
  },
  {
   "attachments": {},
   "cell_type": "markdown",
   "metadata": {},
   "source": [
    "The value of identifying the link to the next page of results on the site comes when we decide to then pass that URI back to `requests` and parse the next 25 results. Don't forget to politely add our User-Agent string."
   ]
  },
  {
   "cell_type": "code",
   "execution_count": 13,
   "metadata": {},
   "outputs": [],
   "source": [
    "next_resp = requests.get(album_info['absolute_next_link'], headers=headers)"
   ]
  },
  {
   "attachments": {},
   "cell_type": "markdown",
   "metadata": {},
   "source": [
    "Sure enough, we have succesfully retrieved the next 25 items in the list!"
   ]
  },
  {
   "cell_type": "code",
   "execution_count": 14,
   "metadata": {},
   "outputs": [
    {
     "data": {
      "text/plain": [
       "{'album_titles': ['Silver Rocket - Tesla',\n",
       "  'The Moody Blues - Live At The Isle Of Wight Festival',\n",
       "  'Lili Boniche - Trésors De La Chanson Judéo-Arabe',\n",
       "  'Daddy Longlegs - Shifting Sands',\n",
       "  'Fruupp - Seven Secrets',\n",
       "  'Tony Mottola - A Latin Love-In',\n",
       "  'Diana Ross & The Supremes - Let The Sunshine In',\n",
       "  'Various - Sol Y Sombra. La Primera Alta Comedia Musical De Siesta',\n",
       "  'Γιάννης Γλέζος - Η Ελένη Του Μάη Και Άλλα Τραγούδια Του Γιάννη Γλέζου',\n",
       "  \"Various - Pop Power 60's et 70's Volume 2\",\n",
       "  'Gypsy (15) - Gypsy',\n",
       "  'Kula Shaker - Strangefolk',\n",
       "  'Claudio Villa - Antologia Della Canzone Italiana Vol. 3 1921-1928',\n",
       "  'Mandala (22) - Mandala',\n",
       "  \"Black Trip - Goin' Under\",\n",
       "  'Cream (2) - Reunion 3rd Night',\n",
       "  'Rocco Careri & Arturo Macchiavelli Feat. Eric King - Hot Butterfly (Remixed by Cool Million & Rob Hardt)',\n",
       "  'The Goastt* - Midnight Sun',\n",
       "  \"Alessandro Galluzzi, G. B. Martelli* - Tu Che M'hai Preso Il Cuore / Fox Della Luna\",\n",
       "  'Sergio Pérez (2) - Desfile De Exitos',\n",
       "  'Honey Radar - Ignore The Bells',\n",
       "  \"Marisa Leoni - Ricorderò / Non M'Hai Detto\",\n",
       "  'The Claypool Lennon Delirium - Monolith Of Phobos',\n",
       "  'Onda (6) & Mächy - Familj Och Musiken EP ',\n",
       "  'The Stylers - 36 Great Hits From The Stylers'],\n",
       " 'cover_image_links': ['https://i.discogs.com/TeHqHM2ORkH5o1b4qrAGX8pLpW5iztTH1495umBlX40/rs:fill/g:sm/q:40/h:300/w:300/czM6Ly9kaXNjb2dz/LWRhdGFiYXNlLWlt/YWdlcy9SLTM5MTI5/MzgtMTM0OTAxMDcy/My0xNDgyLmpwZWc.jpeg',\n",
       "  'https://i.discogs.com/3IXyxRYimXTqcPx4hYhPHjXecK4Pe_-R70b0plbHvpw/rs:fill/g:sm/q:40/h:300/w:300/czM6Ly9kaXNjb2dz/LWRhdGFiYXNlLWlt/YWdlcy9SLTI3MjQ3/OTgtMTI5ODIwMjI0/Ni5qcGVn.jpeg',\n",
       "  'https://i.discogs.com/uRXPHNKavLkT09IhbJk5HPFsdPyParJl_-P2Mx0yiio/rs:fill/g:sm/q:40/h:300/w:300/czM6Ly9kaXNjb2dz/LWRhdGFiYXNlLWlt/YWdlcy9SLTExMzA0/NzctMTYxNzY0Mzk0/My0yNTk3LmpwZWc.jpeg',\n",
       "  'https://i.discogs.com/4Aunpkz-n2q1LVP1UBpdbYfGkIsQx_zDjXe9pCAJyyQ/rs:fill/g:sm/q:40/h:300/w:300/czM6Ly9kaXNjb2dz/LWRhdGFiYXNlLWlt/YWdlcy9SLTgzNzk0/ODEtMTQ3MTUzODEy/Ni01NjA2LmpwZWc.jpeg',\n",
       "  'https://i.discogs.com/dq5dr_o0HycpcM8RVclrQRfhNNNAGq-ouWa6rU_WUSI/rs:fill/g:sm/q:40/h:300/w:300/czM6Ly9kaXNjb2dz/LWRhdGFiYXNlLWlt/YWdlcy9SLTgzODkz/NzEtMTQ2MDY2NDM3/MS00OTg1LmpwZWc.jpeg',\n",
       "  'https://i.discogs.com/-aQOCVHAhEpT6Yom00U8IX6R9XwVSWCkRcToxCo4ECc/rs:fill/g:sm/q:40/h:300/w:300/czM6Ly9kaXNjb2dz/LWRhdGFiYXNlLWlt/YWdlcy9SLTgzOTU4/MzAtMTQ2MDgwNzQy/OS01MDg2LmpwZWc.jpeg',\n",
       "  'https://i.discogs.com/7D2Xev1POe9pau0vkpgBR5K7JrMxzGsNQapHyJjy6Pg/rs:fill/g:sm/q:40/h:300/w:300/czM6Ly9kaXNjb2dz/LWRhdGFiYXNlLWlt/YWdlcy9SLTcwMjI0/NzAtMTQzMTg4NDQ0/MS00MDI4LmpwZWc.jpeg',\n",
       "  'https://i.discogs.com/St7rPKrZpaH0s60kBlUK9RigHp9uRoEgd9WD0mzP8bI/rs:fill/g:sm/q:40/h:300/w:300/czM6Ly9kaXNjb2dz/LWRhdGFiYXNlLWlt/YWdlcy9SLTE3MzIy/MzgtMTIzOTc5ODE1/OS5qcGVn.jpeg',\n",
       "  'https://i.discogs.com/W2eKr7HhXwNX9yTjTOlp0hHiN9PbXpcOZTaYOE4zZ9E/rs:fill/g:sm/q:40/h:300/w:300/czM6Ly9kaXNjb2dz/LWRhdGFiYXNlLWlt/YWdlcy9SLTEzNTc1/MTY5LTE1NTY4MDI1/MTQtMjA3NS5qcGVn.jpeg',\n",
       "  'https://i.discogs.com/0pLV6k0Wzn5qCXGfRAwk7zsZfavFZE-Y-ZGO40RcE8Y/rs:fill/g:sm/q:40/h:300/w:300/czM6Ly9kaXNjb2dz/LWRhdGFiYXNlLWlt/YWdlcy9SLTg0NTc0/MDctMTQ2MjAxNjky/Mi02NjEwLmpwZWc.jpeg',\n",
       "  'https://i.discogs.com/GTJoT6dQ9BR2xJ0yVNi-hzmfneqOjGoarK9AhD8n05w/rs:fill/g:sm/q:40/h:300/w:300/czM6Ly9kaXNjb2dz/LWRhdGFiYXNlLWlt/YWdlcy9SLTE3NDQw/MTMtMTM5NzE2Nzc5/OS00NDUwLmpwZWc.jpeg',\n",
       "  'https://i.discogs.com/eq6XuBDs1ivb-TX1n5NZXxUEz42zbygkwB6MNvF4b_U/rs:fill/g:sm/q:40/h:300/w:300/czM6Ly9kaXNjb2dz/LWRhdGFiYXNlLWlt/YWdlcy9SLTg1MzIz/NDYtMTQ2MzUwMDQy/Ny05ODY3LmpwZWc.jpeg',\n",
       "  'https://i.discogs.com/JfhMs9fsEwXlenF9X5zDTFgyO1iCH5FE6zaQU_JtP5g/rs:fill/g:sm/q:40/h:300/w:300/czM6Ly9kaXNjb2dz/LWRhdGFiYXNlLWlt/YWdlcy9SLTg1MzUy/MjUtMTQ2MzU2MjU5/NC01MDQ3LmpwZWc.jpeg',\n",
       "  'https://i.discogs.com/P2q12mwBZLzvL3b_m0sS4DLK-EEXjASzl4xDVnXoO34/rs:fill/g:sm/q:40/h:300/w:300/czM6Ly9kaXNjb2dz/LWRhdGFiYXNlLWlt/YWdlcy9SLTg1NTIz/NzAtMTQ2MzkxMzY4/My03Nzg5LmpwZWc.jpeg',\n",
       "  'https://i.discogs.com/n99X_NIfF2F3RlKkdjIdH8_FCgeeAjnLeJj-hjxTlJM/rs:fill/g:sm/q:40/h:300/w:300/czM6Ly9kaXNjb2dz/LWRhdGFiYXNlLWlt/YWdlcy9SLTUwNzk1/MzctMTM4MzkzMjM5/Mi00Njc1LmpwZWc.jpeg',\n",
       "  'https://i.discogs.com/oV715Shcdj3QtHX7n7bytrGAwMxZfPuHTjUuAZfjJik/rs:fill/g:sm/q:40/h:300/w:300/czM6Ly9kaXNjb2dz/LWRhdGFiYXNlLWlt/YWdlcy9SLTMwNTk2/NzktMTMzMjAyNDcy/Mi5qcGVn.jpeg',\n",
       "  'https://i.discogs.com/2wxqB0vE4YwseatTe3zo74AV6wk6PYH_7Yhp05CMM2Y/rs:fill/g:sm/q:40/h:300/w:300/czM6Ly9kaXNjb2dz/LWRhdGFiYXNlLWlt/YWdlcy9SLTg1ODM3/OTItMTQ2NDUyODUy/Ni0yMTc1LmpwZWc.jpeg',\n",
       "  'https://i.discogs.com/ph89oE1Y-u1Nyfudk2Ndd-CklS36nDrXUKaDl8tJeKc/rs:fill/g:sm/q:40/h:300/w:300/czM6Ly9kaXNjb2dz/LWRhdGFiYXNlLWlt/YWdlcy9SLTU2NTg1/ODMtMTM5OTE3Mjgx/MC0zMjUxLmpwZWc.jpeg',\n",
       "  'https://i.discogs.com/jnX-N6eN63yZlKNDxNaWW3NervFOcTCS3X6vOLqDsA8/rs:fill/g:sm/q:40/h:300/w:300/czM6Ly9kaXNjb2dz/LWRhdGFiYXNlLWlt/YWdlcy9SLTg2NDk2/MzctMTU4NzEzNjE4/OC02NDEyLmpwZWc.jpeg',\n",
       "  'https://i.discogs.com/YaNgBsoF-V4kbN69JV8NEv6C2G6VtcvHzA5u2MzkgVY/rs:fill/g:sm/q:40/h:300/w:300/czM6Ly9kaXNjb2dz/LWRhdGFiYXNlLWlt/YWdlcy9SLTI5ODgx/NTgtMTMxMjMyNjkz/MS5qcGVn.jpeg',\n",
       "  'https://i.discogs.com/6g15Q9Dq7agz0A7yrWod619IJ40iE8oQtIrAseI6sYw/rs:fill/g:sm/q:40/h:300/w:300/czM6Ly9kaXNjb2dz/LWRhdGFiYXNlLWlt/YWdlcy9SLTg3NDk3/MjYtMTQ2Nzk0NzIw/OS04MzY3LmpwZWc.jpeg',\n",
       "  'https://i.discogs.com/66OFNor9_RNXWwdI5kGUz6yDKqoe9u0-zPUfr2bXkVA/rs:fill/g:sm/q:40/h:300/w:300/czM6Ly9kaXNjb2dz/LWRhdGFiYXNlLWlt/YWdlcy9SLTg3NzEx/NDctMTQ2ODQzODg0/Ni00NjE5LmpwZWc.jpeg',\n",
       "  'https://i.discogs.com/dPda1KR2PV3LIrm8pa6sVX4C895ItlTltclnD4Gha1w/rs:fill/g:sm/q:40/h:300/w:300/czM6Ly9kaXNjb2dz/LWRhdGFiYXNlLWlt/YWdlcy9SLTg2MDE2/MDUtMTQ2NDg5MTA3/My0yMjAzLmpwZWc.jpeg',\n",
       "  'https://i.discogs.com/YNoYx-m2twtkKipg51ORkQtBzfj1hmV-kEeiuZVDd30/rs:fill/g:sm/q:40/h:300/w:300/czM6Ly9kaXNjb2dz/LWRhdGFiYXNlLWlt/YWdlcy9SLTg2OTMy/MzQtMTQ2Njc0NTQy/Ni00MzI4LmpwZWc.jpeg',\n",
       "  'https://i.discogs.com/av-sbThnvDc0nGWjk2BpuDucMu_M2R2gIxUe5edUyYw/rs:fill/g:sm/q:40/h:300/w:300/czM6Ly9kaXNjb2dz/LWRhdGFiYXNlLWlt/YWdlcy9SLTkwMDk5/NDctMTQ3MzIwMjkw/NS00ODMzLmpwZWc.jpeg'],\n",
       " 'absolute_next_link': 'https://www.discogs.com/lists/277616?page=3'}"
      ]
     },
     "execution_count": 14,
     "metadata": {},
     "output_type": "execute_result"
    }
   ],
   "source": [
    "next_album_info = scrape_album_info(next_resp.content)\n",
    "next_album_info"
   ]
  },
  {
   "attachments": {},
   "cell_type": "markdown",
   "metadata": {},
   "source": [
    "Of course, the purpose of working with Python here is to automate the work of paginating through all these HTML documents, so the final step is to use these tools to automate the process of following the chain of next page links, until either (a) the total number of expected items has been processed or (b) there is no valid response from the server. We can do this, including a short 1 second wait between requests, as follows:"
   ]
  },
  {
   "cell_type": "code",
   "execution_count": 15,
   "metadata": {},
   "outputs": [],
   "source": [
    "seed_uri = 'https://www.discogs.com/lists/277616'"
   ]
  },
  {
   "cell_type": "code",
   "execution_count": 16,
   "metadata": {},
   "outputs": [],
   "source": [
    "import time \n",
    "\n",
    "def run_scrape(seed_uri):\n",
    "    data = [] \n",
    "    to_get = []\n",
    "    count = 0\n",
    "\n",
    "    seed_resp = requests.get(seed_uri, headers=headers)\n",
    "    seed_album_info = scrape_album_info(seed_resp.content)\n",
    "    data.append(seed_album_info)\n",
    "    to_get.append(seed_album_info['absolute_next_link'])\n",
    "\n",
    "    while len(to_get) > 0 and count < 5:\n",
    "        time.sleep(1)\n",
    "        resp = requests.get(to_get.pop(0), headers=headers)\n",
    "        count += 1 \n",
    "\n",
    "        album_info = scrape_album_info(resp.content)\n",
    "        data.append(album_info)\n",
    "        to_get.append(album_info['absolute_next_link'])\n",
    "    \n",
    "    return data\n"
   ]
  },
  {
   "cell_type": "code",
   "execution_count": 17,
   "metadata": {},
   "outputs": [],
   "source": [
    "scraped_data = run_scrape(seed_uri='https://www.discogs.com/lists/277616')"
   ]
  }
 ],
 "metadata": {
  "kernelspec": {
   "display_name": "webscraping-for-humanities",
   "language": "python",
   "name": "python3"
  },
  "language_info": {
   "codemirror_mode": {
    "name": "ipython",
    "version": 3
   },
   "file_extension": ".py",
   "mimetype": "text/x-python",
   "name": "python",
   "nbconvert_exporter": "python",
   "pygments_lexer": "ipython3",
   "version": "3.11.0 | packaged by conda-forge | (main, Jan 14 2023, 12:27:40) [GCC 11.3.0]"
  },
  "orig_nbformat": 4,
  "vscode": {
   "interpreter": {
    "hash": "790dd6c57fc929fd42e5ab267bfea63b216295e4d85fc21cf4d3027566e8b5a9"
   }
  }
 },
 "nbformat": 4,
 "nbformat_minor": 2
}
