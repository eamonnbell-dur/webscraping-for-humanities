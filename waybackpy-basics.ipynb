{
 "cells": [
  {
   "attachments": {},
   "cell_type": "markdown",
   "metadata": {},
   "source": [
    "# `waybackpy` basics\n",
    "\n",
    "See [the waybackpy module documentation here](https://github.com/akamhy/waybackpy/wiki/Python-package-docs)"
   ]
  }
 ],
 "metadata": {
  "kernelspec": {
   "display_name": "webscraping-for-humanities",
   "language": "python",
   "name": "python3"
  },
  "language_info": {
   "codemirror_mode": {
    "name": "ipython",
    "version": 3
   },
   "file_extension": ".py",
   "mimetype": "text/x-python",
   "name": "python",
   "nbconvert_exporter": "python",
   "pygments_lexer": "ipython3",
   "version": "3.11.0"
  },
  "orig_nbformat": 4,
  "vscode": {
   "interpreter": {
    "hash": "790dd6c57fc929fd42e5ab267bfea63b216295e4d85fc21cf4d3027566e8b5a9"
   }
  }
 },
 "nbformat": 4,
 "nbformat_minor": 2
}
